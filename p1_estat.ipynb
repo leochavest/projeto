{
  "cells": [
    {
      "cell_type": "markdown",
      "metadata": {
        "id": "view-in-github",
        "colab_type": "text"
      },
      "source": [
        "<a href=\"https://colab.research.google.com/github/leochavest/projeto/blob/master/p1_estat.ipynb\" target=\"_parent\"><img src=\"https://colab.research.google.com/assets/colab-badge.svg\" alt=\"Open In Colab\"/></a>"
      ]
    },
    {
      "cell_type": "markdown",
      "source": [
        "## Prova 1 Leonardo Chaves"
      ],
      "metadata": {
        "id": "mQgHeFPsjLMp"
      }
    },
    {
      "cell_type": "markdown",
      "source": [
        "### Questões"
      ],
      "metadata": {
        "id": "S7uv68ZSjQw-"
      }
    },
    {
      "cell_type": "code",
      "execution_count": 5,
      "metadata": {
        "id": "3VGHhTOyi86q"
      },
      "outputs": [],
      "source": [
        "from scipy.stats import *\n"
      ]
    },
    {
      "cell_type": "markdown",
      "metadata": {
        "id": "0JY4dXCHi86x"
      },
      "source": [
        "### Binomial para função cumulativa é CDF, para probabilidade é PMF"
      ]
    },
    {
      "cell_type": "code",
      "execution_count": null,
      "metadata": {
        "id": "noKqVSc2i860",
        "outputId": "3562cfe0-5246-4093-f910-ab5803aee40d"
      },
      "outputs": [
        {
          "data": {
            "text/plain": [
              "0.4229120000000004"
            ]
          },
          "execution_count": 9,
          "metadata": {},
          "output_type": "execute_result"
        }
      ],
      "source": [
        "binom.cdf(5,7,.2) - binom.cdf(1,7,0.2)"
      ]
    },
    {
      "cell_type": "code",
      "execution_count": null,
      "metadata": {
        "id": "CVj60xdti861",
        "outputId": "b8b776ac-c274-4759-c4be-f73fff075ddf"
      },
      "outputs": [
        {
          "data": {
            "text/plain": [
              "0.040960000000000024"
            ]
          },
          "execution_count": 42,
          "metadata": {},
          "output_type": "execute_result"
        }
      ],
      "source": [
        "binom.pmf(5,6,.4) + binom.pmf(6,6,.4)"
      ]
    },
    {
      "cell_type": "code",
      "execution_count": null,
      "metadata": {
        "id": "En6ipSuHi862",
        "outputId": "bcb7eaf6-08ee-4a45-d591-fd6c8ee087dc"
      },
      "outputs": [
        {
          "data": {
            "text/plain": [
              "0.5282199999999999"
            ]
          },
          "execution_count": 44,
          "metadata": {},
          "output_type": "execute_result"
        }
      ],
      "source": [
        "p_x = 0.7\n",
        "n = 5\n",
        "binom.pmf(4, n, p_x) + binom.pmf(5, n, p_x) + binom.pmf(6, n, p_x)\n"
      ]
    },
    {
      "cell_type": "code",
      "execution_count": null,
      "metadata": {
        "id": "IAJ_k6ADi863",
        "outputId": "45b18fca-7e0c-48aa-ee54-6289091ba084"
      },
      "outputs": [
        {
          "data": {
            "text/plain": [
              "0.96922"
            ]
          },
          "execution_count": 48,
          "metadata": {},
          "output_type": "execute_result"
        }
      ],
      "source": [
        "1 - binom.pmf(0, n, p_x) - binom.pmf(1, n, p_x)\n"
      ]
    },
    {
      "cell_type": "code",
      "execution_count": null,
      "metadata": {
        "id": "NxSq31WKi864",
        "outputId": "af72ea49-d5d0-4b90-fc80-845669c6e594"
      },
      "outputs": [
        {
          "data": {
            "text/plain": [
              "0.9795134443021767"
            ]
          },
          "execution_count": 50,
          "metadata": {},
          "output_type": "execute_result"
        }
      ],
      "source": [
        "n = 5\n",
        "px = 0.25\n",
        "\n",
        "(binom.cdf(3, n, px) - binom.cdf(0, n, px))/(1-binom.cdf(0, n, px))\n"
      ]
    },
    {
      "cell_type": "code",
      "execution_count": null,
      "metadata": {
        "id": "knl6i4gwi865",
        "outputId": "c22bf9a5-8a64-4c80-974f-89b803701792"
      },
      "outputs": [
        {
          "data": {
            "text/plain": [
              "0.7626953125"
            ]
          },
          "execution_count": 51,
          "metadata": {},
          "output_type": "execute_result"
        }
      ],
      "source": [
        "(1-binom.cdf(0, n, px))"
      ]
    },
    {
      "cell_type": "code",
      "execution_count": null,
      "metadata": {
        "id": "l2fKbYf-i866",
        "outputId": "25e6d633-5c68-478f-ccd3-56d4bf3f599e"
      },
      "outputs": [
        {
          "data": {
            "text/plain": [
              "0.9795134443021767"
            ]
          },
          "execution_count": 71,
          "metadata": {},
          "output_type": "execute_result"
        }
      ],
      "source": [
        "(binom.cdf(3, n, px) - binom.cdf(0, n, px))/(1 - binom.cdf(0, n, px))\n"
      ]
    },
    {
      "cell_type": "code",
      "execution_count": null,
      "metadata": {
        "id": "qfkeDHB7i867",
        "outputId": "2d7a20b8-d447-4b25-f3f4-bf4ca06d58fd"
      },
      "outputs": [
        {
          "data": {
            "text/plain": [
              "0.08789062499999994"
            ]
          },
          "execution_count": 72,
          "metadata": {},
          "output_type": "execute_result"
        }
      ],
      "source": [
        "binom.pmf(3, n, px)\n"
      ]
    },
    {
      "cell_type": "code",
      "execution_count": null,
      "metadata": {
        "id": "Suf0ciYgi868",
        "outputId": "4da56cf2-857b-49ca-8b8a-35f0045135c6"
      },
      "outputs": [
        {
          "data": {
            "text/plain": [
              "0.25412183999999993"
            ]
          },
          "execution_count": 161,
          "metadata": {},
          "output_type": "execute_result"
        }
      ],
      "source": [
        "binom.pmf(3, 8, 0.3)\n"
      ]
    },
    {
      "cell_type": "code",
      "execution_count": null,
      "metadata": {
        "id": "z3-7wKPCi869",
        "outputId": "dbdf9e01-2cba-41d2-efd0-d657e8469243"
      },
      "outputs": [
        {
          "data": {
            "text/plain": [
              "0.6328125"
            ]
          },
          "execution_count": 56,
          "metadata": {},
          "output_type": "execute_result"
        }
      ],
      "source": []
    },
    {
      "cell_type": "markdown",
      "metadata": {
        "id": "F6_CK4-Ki86-"
      },
      "source": [
        "### Distribuição HyperGemoetrica\n"
      ]
    },
    {
      "cell_type": "code",
      "execution_count": null,
      "metadata": {
        "id": "sjgOhGqmi86-",
        "outputId": "1ce2976e-1339-410e-e580-a24a3b8f1593"
      },
      "outputs": [
        {
          "data": {
            "text/plain": [
              "0.5714285714285715"
            ]
          },
          "execution_count": 100,
          "metadata": {},
          "output_type": "execute_result"
        }
      ],
      "source": [
        "x = 3\n",
        "N = 8\n",
        "n = 6\n",
        "r = 4\n",
        "\n",
        "hypergeom.pmf(x, N, n, r)"
      ]
    },
    {
      "cell_type": "markdown",
      "metadata": {
        "id": "J77470Lbi86_"
      },
      "source": [
        "### Geometrica"
      ]
    },
    {
      "cell_type": "code",
      "execution_count": 6,
      "metadata": {
        "id": "FsQMSg5Mi86_",
        "outputId": "99f7b56b-6ee8-4714-d67a-c8e381b00fa6",
        "colab": {
          "base_uri": "https://localhost:8080/"
        }
      },
      "outputs": [
        {
          "output_type": "execute_result",
          "data": {
            "text/plain": [
              "0.10289999999999998"
            ]
          },
          "metadata": {},
          "execution_count": 6
        }
      ],
      "source": [
        "geom.pmf(4,0.3)"
      ]
    },
    {
      "cell_type": "code",
      "execution_count": 7,
      "metadata": {
        "id": "KHoc31MLi87A",
        "outputId": "b0cff838-7d67-40a0-ad8e-a5e8c8cd9334",
        "colab": {
          "base_uri": "https://localhost:8080/"
        }
      },
      "outputs": [
        {
          "output_type": "execute_result",
          "data": {
            "text/plain": [
              "-0.7599"
            ]
          },
          "metadata": {},
          "execution_count": 7
        }
      ],
      "source": [
        "-geom.pmf(4,0.3)- geom.pmf(3,0.3)- geom.pmf(2,0.3)- geom.pmf(1,0.3)"
      ]
    },
    {
      "cell_type": "markdown",
      "metadata": {
        "id": "wpC0WYDdi87A"
      },
      "source": [
        "### Binomial Negativa"
      ]
    },
    {
      "cell_type": "code",
      "execution_count": null,
      "metadata": {
        "id": "lyOiHeiJi87B",
        "outputId": "08da6e9c-daf4-444c-ecc3-98712c2d2ac1"
      },
      "outputs": [
        {
          "data": {
            "text/plain": [
              "0.009684540638697555"
            ]
          },
          "execution_count": 141,
          "metadata": {},
          "output_type": "execute_result"
        }
      ],
      "source": [
        "k = 20\n",
        "n= 2\n",
        "p = .2\n",
        "\n",
        "nbinom.pmf(k,n,p)"
      ]
    },
    {
      "cell_type": "code",
      "execution_count": null,
      "metadata": {
        "id": "xufHXUIti87B",
        "outputId": "908bd8b0-8d26-4781-f937-336e137331c4"
      },
      "outputs": [
        {
          "data": {
            "text/plain": [
              "0.09529569000000002"
            ]
          },
          "execution_count": 158,
          "metadata": {},
          "output_type": "execute_result"
        }
      ],
      "source": [
        "k = 5\n",
        "n= 3\n",
        "p = .3\n",
        "\n",
        "nbinom.pmf(k,n,p)"
      ]
    },
    {
      "cell_type": "markdown",
      "metadata": {
        "id": "Qpwni2Uii87C"
      },
      "source": [
        "### Poisson\n"
      ]
    },
    {
      "cell_type": "code",
      "execution_count": null,
      "metadata": {
        "id": "XDDqjzfpi87C",
        "outputId": "d8aea83b-67ee-4d79-ecba-5abda325fcdd"
      },
      "outputs": [
        {
          "data": {
            "text/plain": [
              "0.06131324019524039"
            ]
          },
          "execution_count": 176,
          "metadata": {},
          "output_type": "execute_result"
        }
      ],
      "source": [
        "mu = 12/60 * 5\n",
        "x = 3\n",
        "poisson.pmf(x, mu)"
      ]
    },
    {
      "cell_type": "markdown",
      "source": [
        "### Normal\n",
        "\n"
      ],
      "metadata": {
        "id": "Hh_V8Ab7x1vh"
      }
    },
    {
      "cell_type": "code",
      "source": [
        "norm.pdf(0.5)"
      ],
      "metadata": {
        "colab": {
          "base_uri": "https://localhost:8080/"
        },
        "id": "lpzdnF04x4Ss",
        "outputId": "0dc3ad50-e977-4b97-b2c9-75cca6b65759"
      },
      "execution_count": 3,
      "outputs": [
        {
          "output_type": "execute_result",
          "data": {
            "text/plain": [
              "0.3520653267642995"
            ]
          },
          "metadata": {},
          "execution_count": 3
        }
      ]
    },
    {
      "cell_type": "code",
      "source": [
        "norm.cdf(0.5)"
      ],
      "metadata": {
        "colab": {
          "base_uri": "https://localhost:8080/"
        },
        "id": "uqZgcgkgyPuU",
        "outputId": "9ce314ce-64f8-437a-ec85-69ebf480727f"
      },
      "execution_count": 4,
      "outputs": [
        {
          "output_type": "execute_result",
          "data": {
            "text/plain": [
              "0.6914624612740131"
            ]
          },
          "metadata": {},
          "execution_count": 4
        }
      ]
    }
  ],
  "metadata": {
    "kernelspec": {
      "display_name": "Python 3",
      "language": "python",
      "name": "python3"
    },
    "language_info": {
      "codemirror_mode": {
        "name": "ipython",
        "version": 3
      },
      "file_extension": ".py",
      "mimetype": "text/x-python",
      "name": "python",
      "nbconvert_exporter": "python",
      "pygments_lexer": "ipython3",
      "version": "3.11.0"
    },
    "orig_nbformat": 4,
    "colab": {
      "provenance": [],
      "include_colab_link": true
    }
  },
  "nbformat": 4,
  "nbformat_minor": 0
}